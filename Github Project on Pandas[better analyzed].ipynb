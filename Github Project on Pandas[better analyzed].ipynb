{
 "cells": [
  {
   "cell_type": "code",
   "execution_count": 1,
   "id": "9bf61279-c0ef-4c43-8e0b-4a4775464fae",
   "metadata": {},
   "outputs": [],
   "source": [
    "import numpy as np\n",
    "import pandas as pd\n",
    "import matplotlib.pyplot as plt\n",
    "import seaborn as sns"
   ]
  },
  {
   "cell_type": "code",
   "execution_count": 2,
   "id": "a474d02c-90a2-47e1-a495-b6753c912da1",
   "metadata": {},
   "outputs": [],
   "source": [
    "data1=pd.read_excel(\"pakistan1.xlsx\")"
   ]
  },
  {
   "cell_type": "code",
   "execution_count": 3,
   "id": "1a1619eb-edff-4bbe-af71-03e18cee4b0f",
   "metadata": {},
   "outputs": [
    {
     "data": {
      "text/html": [
       "<div>\n",
       "<style scoped>\n",
       "    .dataframe tbody tr th:only-of-type {\n",
       "        vertical-align: middle;\n",
       "    }\n",
       "\n",
       "    .dataframe tbody tr th {\n",
       "        vertical-align: top;\n",
       "    }\n",
       "\n",
       "    .dataframe thead th {\n",
       "        text-align: right;\n",
       "    }\n",
       "</style>\n",
       "<table border=\"1\" class=\"dataframe\">\n",
       "  <thead>\n",
       "    <tr style=\"text-align: right;\">\n",
       "      <th></th>\n",
       "      <th>S#</th>\n",
       "      <th>Date</th>\n",
       "      <th>Islamic Date</th>\n",
       "      <th>Blast Day Type</th>\n",
       "      <th>Holiday Type</th>\n",
       "      <th>Time</th>\n",
       "      <th>City</th>\n",
       "      <th>Latitude</th>\n",
       "      <th>Longitude</th>\n",
       "      <th>Province</th>\n",
       "      <th>...</th>\n",
       "      <th>Targeted Sect if any</th>\n",
       "      <th>Killed Min</th>\n",
       "      <th>Killed Max</th>\n",
       "      <th>Injured Min</th>\n",
       "      <th>Injured Max</th>\n",
       "      <th>No. of Suicide Blasts</th>\n",
       "      <th>Explosive Weight (max)</th>\n",
       "      <th>Hospital Names</th>\n",
       "      <th>Temperature(C)</th>\n",
       "      <th>Temperature(F)</th>\n",
       "    </tr>\n",
       "  </thead>\n",
       "  <tbody>\n",
       "    <tr>\n",
       "      <th>0</th>\n",
       "      <td>1</td>\n",
       "      <td>Sunday-November 19-1995</td>\n",
       "      <td>25 Jumaada al-THaany 1416 A.H</td>\n",
       "      <td>Holiday</td>\n",
       "      <td>Weekend</td>\n",
       "      <td>NaN</td>\n",
       "      <td>Islamabad</td>\n",
       "      <td>33.718000</td>\n",
       "      <td>73.0718</td>\n",
       "      <td>Capital</td>\n",
       "      <td>...</td>\n",
       "      <td>NaN</td>\n",
       "      <td>14.0</td>\n",
       "      <td>15.0</td>\n",
       "      <td>NaN</td>\n",
       "      <td>60</td>\n",
       "      <td>2.0</td>\n",
       "      <td>NaN</td>\n",
       "      <td>NaN</td>\n",
       "      <td>15.835</td>\n",
       "      <td>60.503</td>\n",
       "    </tr>\n",
       "    <tr>\n",
       "      <th>1</th>\n",
       "      <td>2</td>\n",
       "      <td>Monday-November 6-2000</td>\n",
       "      <td>10 SHa`baan 1421 A.H</td>\n",
       "      <td>Working Day</td>\n",
       "      <td>NaN</td>\n",
       "      <td>NaN</td>\n",
       "      <td>Karachi</td>\n",
       "      <td>24.991800</td>\n",
       "      <td>66.9911</td>\n",
       "      <td>Sindh</td>\n",
       "      <td>...</td>\n",
       "      <td>NaN</td>\n",
       "      <td>NaN</td>\n",
       "      <td>3.0</td>\n",
       "      <td>NaN</td>\n",
       "      <td>3</td>\n",
       "      <td>1.0</td>\n",
       "      <td>NaN</td>\n",
       "      <td>NaN</td>\n",
       "      <td>23.770</td>\n",
       "      <td>74.786</td>\n",
       "    </tr>\n",
       "    <tr>\n",
       "      <th>2</th>\n",
       "      <td>3</td>\n",
       "      <td>Wednesday-May 8-2002</td>\n",
       "      <td>25 safar 1423 A.H</td>\n",
       "      <td>Working Day</td>\n",
       "      <td>NaN</td>\n",
       "      <td>07:45:00</td>\n",
       "      <td>Karachi</td>\n",
       "      <td>24.991800</td>\n",
       "      <td>66.9911</td>\n",
       "      <td>Sindh</td>\n",
       "      <td>...</td>\n",
       "      <td>Christian</td>\n",
       "      <td>13.0</td>\n",
       "      <td>15.0</td>\n",
       "      <td>20.0</td>\n",
       "      <td>40</td>\n",
       "      <td>1.0</td>\n",
       "      <td>2.5 Kg</td>\n",
       "      <td>1.Jinnah Postgraduate Medical Center 2. Civil ...</td>\n",
       "      <td>31.460</td>\n",
       "      <td>88.628</td>\n",
       "    </tr>\n",
       "    <tr>\n",
       "      <th>3</th>\n",
       "      <td>4</td>\n",
       "      <td>Friday-June 14-2002</td>\n",
       "      <td>3 Raby` al-THaany 1423 A.H</td>\n",
       "      <td>Working Day</td>\n",
       "      <td>NaN</td>\n",
       "      <td>11:10:00</td>\n",
       "      <td>Karachi</td>\n",
       "      <td>24.991800</td>\n",
       "      <td>66.9911</td>\n",
       "      <td>Sindh</td>\n",
       "      <td>...</td>\n",
       "      <td>Christian</td>\n",
       "      <td>NaN</td>\n",
       "      <td>12.0</td>\n",
       "      <td>NaN</td>\n",
       "      <td>51</td>\n",
       "      <td>1.0</td>\n",
       "      <td>NaN</td>\n",
       "      <td>NaN</td>\n",
       "      <td>31.430</td>\n",
       "      <td>88.574</td>\n",
       "    </tr>\n",
       "    <tr>\n",
       "      <th>4</th>\n",
       "      <td>5</td>\n",
       "      <td>Friday-July 4-2003</td>\n",
       "      <td>4 Jumaada al-awal 1424 A.H</td>\n",
       "      <td>Working Day</td>\n",
       "      <td>NaN</td>\n",
       "      <td>NaN</td>\n",
       "      <td>Quetta</td>\n",
       "      <td>30.209500</td>\n",
       "      <td>67.0182</td>\n",
       "      <td>Baluchistan</td>\n",
       "      <td>...</td>\n",
       "      <td>Shiite</td>\n",
       "      <td>44.0</td>\n",
       "      <td>47.0</td>\n",
       "      <td>NaN</td>\n",
       "      <td>65</td>\n",
       "      <td>1.0</td>\n",
       "      <td>NaN</td>\n",
       "      <td>1.CMH Quetta \\n2.Civil Hospital 3. Boland Medi...</td>\n",
       "      <td>33.120</td>\n",
       "      <td>91.616</td>\n",
       "    </tr>\n",
       "    <tr>\n",
       "      <th>...</th>\n",
       "      <td>...</td>\n",
       "      <td>...</td>\n",
       "      <td>...</td>\n",
       "      <td>...</td>\n",
       "      <td>...</td>\n",
       "      <td>...</td>\n",
       "      <td>...</td>\n",
       "      <td>...</td>\n",
       "      <td>...</td>\n",
       "      <td>...</td>\n",
       "      <td>...</td>\n",
       "      <td>...</td>\n",
       "      <td>...</td>\n",
       "      <td>...</td>\n",
       "      <td>...</td>\n",
       "      <td>...</td>\n",
       "      <td>...</td>\n",
       "      <td>...</td>\n",
       "      <td>...</td>\n",
       "      <td>...</td>\n",
       "      <td>...</td>\n",
       "    </tr>\n",
       "    <tr>\n",
       "      <th>487</th>\n",
       "      <td>488</td>\n",
       "      <td>Monday-July-17-2017</td>\n",
       "      <td>22 Shawaal 1432 A.H</td>\n",
       "      <td>Working Day</td>\n",
       "      <td>NaN</td>\n",
       "      <td>NaN</td>\n",
       "      <td>Peshawar</td>\n",
       "      <td>34.015000</td>\n",
       "      <td>71.5805</td>\n",
       "      <td>KPK</td>\n",
       "      <td>...</td>\n",
       "      <td>NaN</td>\n",
       "      <td>1.0</td>\n",
       "      <td>2.0</td>\n",
       "      <td>1.0</td>\n",
       "      <td>7</td>\n",
       "      <td>1.0</td>\n",
       "      <td>NaN</td>\n",
       "      <td>NaN</td>\n",
       "      <td>37.000</td>\n",
       "      <td>98.000</td>\n",
       "    </tr>\n",
       "    <tr>\n",
       "      <th>488</th>\n",
       "      <td>489</td>\n",
       "      <td>Monday-July-17-2017</td>\n",
       "      <td>22 Shawaal 1432 A.H</td>\n",
       "      <td>Working Day</td>\n",
       "      <td>NaN</td>\n",
       "      <td>NaN</td>\n",
       "      <td>Peshawar</td>\n",
       "      <td>34.015000</td>\n",
       "      <td>71.5805</td>\n",
       "      <td>KPK</td>\n",
       "      <td>...</td>\n",
       "      <td>NaN</td>\n",
       "      <td>1.0</td>\n",
       "      <td>1.0</td>\n",
       "      <td>1.0</td>\n",
       "      <td>1</td>\n",
       "      <td>1.0</td>\n",
       "      <td>NaN</td>\n",
       "      <td>NaN</td>\n",
       "      <td>37.000</td>\n",
       "      <td>98.000</td>\n",
       "    </tr>\n",
       "    <tr>\n",
       "      <th>489</th>\n",
       "      <td>490</td>\n",
       "      <td>Monday-July-24-2017</td>\n",
       "      <td>29 Shawaal 1432 A.H</td>\n",
       "      <td>Working Day</td>\n",
       "      <td>NaN</td>\n",
       "      <td>3:55pm</td>\n",
       "      <td>Lahore</td>\n",
       "      <td>31.500875</td>\n",
       "      <td>74.33312</td>\n",
       "      <td>Punjab</td>\n",
       "      <td>...</td>\n",
       "      <td>NaN</td>\n",
       "      <td>26.0</td>\n",
       "      <td>27.0</td>\n",
       "      <td>56.0</td>\n",
       "      <td>56</td>\n",
       "      <td>1.0</td>\n",
       "      <td>NaN</td>\n",
       "      <td>Jinnah Hospital, General Hospital, Ittefaq Hos...</td>\n",
       "      <td>32.000</td>\n",
       "      <td>88.000</td>\n",
       "    </tr>\n",
       "    <tr>\n",
       "      <th>490</th>\n",
       "      <td>491</td>\n",
       "      <td>Saturday-August-12-2017</td>\n",
       "      <td>NaN</td>\n",
       "      <td>Weekend</td>\n",
       "      <td>NaN</td>\n",
       "      <td>5:00PM</td>\n",
       "      <td>Quetta</td>\n",
       "      <td>30.203658</td>\n",
       "      <td>67.004469</td>\n",
       "      <td>Balochistan</td>\n",
       "      <td>...</td>\n",
       "      <td>NaN</td>\n",
       "      <td>15.0</td>\n",
       "      <td>15.0</td>\n",
       "      <td>40.0</td>\n",
       "      <td>40</td>\n",
       "      <td>1.0</td>\n",
       "      <td>25KG</td>\n",
       "      <td>NaN</td>\n",
       "      <td>29.000</td>\n",
       "      <td>NaN</td>\n",
       "    </tr>\n",
       "    <tr>\n",
       "      <th>491</th>\n",
       "      <td>492</td>\n",
       "      <td>Thursday-October-05-2017</td>\n",
       "      <td>NaN</td>\n",
       "      <td>NaN</td>\n",
       "      <td>NaN</td>\n",
       "      <td>NaN</td>\n",
       "      <td>Quetta</td>\n",
       "      <td>28.571051</td>\n",
       "      <td>67.496895</td>\n",
       "      <td>Balochistan</td>\n",
       "      <td>...</td>\n",
       "      <td>NaN</td>\n",
       "      <td>21.0</td>\n",
       "      <td>22.0</td>\n",
       "      <td>25.0</td>\n",
       "      <td>NaN</td>\n",
       "      <td>1.0</td>\n",
       "      <td>NaN</td>\n",
       "      <td>Larkana Hospital, Gandawah District Headquarte...</td>\n",
       "      <td>27.800</td>\n",
       "      <td>81.000</td>\n",
       "    </tr>\n",
       "  </tbody>\n",
       "</table>\n",
       "<p>492 rows × 26 columns</p>\n",
       "</div>"
      ],
      "text/plain": [
       "      S#                      Date                   Islamic Date  \\\n",
       "0      1   Sunday-November 19-1995  25 Jumaada al-THaany 1416 A.H   \n",
       "1      2    Monday-November 6-2000           10 SHa`baan 1421 A.H   \n",
       "2      3      Wednesday-May 8-2002              25 safar 1423 A.H   \n",
       "3      4       Friday-June 14-2002     3 Raby` al-THaany 1423 A.H   \n",
       "4      5        Friday-July 4-2003     4 Jumaada al-awal 1424 A.H   \n",
       "..   ...                       ...                            ...   \n",
       "487  488       Monday-July-17-2017            22 Shawaal 1432 A.H   \n",
       "488  489       Monday-July-17-2017            22 Shawaal 1432 A.H   \n",
       "489  490       Monday-July-24-2017            29 Shawaal 1432 A.H   \n",
       "490  491   Saturday-August-12-2017                            NaN   \n",
       "491  492  Thursday-October-05-2017                            NaN   \n",
       "\n",
       "    Blast Day Type Holiday Type      Time       City   Latitude  Longitude  \\\n",
       "0          Holiday      Weekend       NaN  Islamabad  33.718000    73.0718   \n",
       "1      Working Day          NaN       NaN    Karachi  24.991800    66.9911   \n",
       "2      Working Day          NaN  07:45:00   Karachi   24.991800    66.9911   \n",
       "3      Working Day          NaN  11:10:00    Karachi  24.991800    66.9911   \n",
       "4      Working Day          NaN       NaN     Quetta  30.209500    67.0182   \n",
       "..             ...          ...       ...        ...        ...        ...   \n",
       "487    Working Day          NaN       NaN   Peshawar  34.015000    71.5805   \n",
       "488    Working Day          NaN       NaN   Peshawar  34.015000    71.5805   \n",
       "489    Working Day          NaN    3:55pm     Lahore  31.500875   74.33312   \n",
       "490        Weekend          NaN    5:00PM     Quetta  30.203658  67.004469   \n",
       "491            NaN          NaN       NaN     Quetta  28.571051  67.496895   \n",
       "\n",
       "        Province  ... Targeted Sect if any Killed Min Killed Max Injured Min  \\\n",
       "0        Capital  ...                  NaN       14.0       15.0         NaN   \n",
       "1          Sindh  ...                  NaN        NaN        3.0         NaN   \n",
       "2          Sindh  ...            Christian       13.0       15.0        20.0   \n",
       "3          Sindh  ...            Christian        NaN       12.0         NaN   \n",
       "4    Baluchistan  ...               Shiite       44.0       47.0         NaN   \n",
       "..           ...  ...                  ...        ...        ...         ...   \n",
       "487          KPK  ...                  NaN        1.0        2.0         1.0   \n",
       "488          KPK  ...                  NaN        1.0        1.0         1.0   \n",
       "489       Punjab  ...                  NaN       26.0       27.0        56.0   \n",
       "490  Balochistan  ...                  NaN       15.0       15.0        40.0   \n",
       "491  Balochistan  ...                  NaN       21.0       22.0        25.0   \n",
       "\n",
       "    Injured Max No. of Suicide Blasts Explosive Weight (max)  \\\n",
       "0            60                   2.0                    NaN   \n",
       "1             3                   1.0                    NaN   \n",
       "2            40                   1.0                 2.5 Kg   \n",
       "3            51                   1.0                    NaN   \n",
       "4            65                   1.0                    NaN   \n",
       "..          ...                   ...                    ...   \n",
       "487           7                   1.0                    NaN   \n",
       "488           1                   1.0                    NaN   \n",
       "489          56                   1.0                    NaN   \n",
       "490          40                   1.0                   25KG   \n",
       "491         NaN                   1.0                    NaN   \n",
       "\n",
       "                                        Hospital Names  Temperature(C)  \\\n",
       "0                                                  NaN          15.835   \n",
       "1                                                  NaN          23.770   \n",
       "2    1.Jinnah Postgraduate Medical Center 2. Civil ...          31.460   \n",
       "3                                                  NaN          31.430   \n",
       "4    1.CMH Quetta \\n2.Civil Hospital 3. Boland Medi...          33.120   \n",
       "..                                                 ...             ...   \n",
       "487                                                NaN          37.000   \n",
       "488                                                NaN          37.000   \n",
       "489  Jinnah Hospital, General Hospital, Ittefaq Hos...          32.000   \n",
       "490                                                NaN          29.000   \n",
       "491  Larkana Hospital, Gandawah District Headquarte...          27.800   \n",
       "\n",
       "     Temperature(F)  \n",
       "0            60.503  \n",
       "1            74.786  \n",
       "2            88.628  \n",
       "3            88.574  \n",
       "4            91.616  \n",
       "..              ...  \n",
       "487          98.000  \n",
       "488          98.000  \n",
       "489          88.000  \n",
       "490             NaN  \n",
       "491          81.000  \n",
       "\n",
       "[492 rows x 26 columns]"
      ]
     },
     "execution_count": 3,
     "metadata": {},
     "output_type": "execute_result"
    }
   ],
   "source": [
    "data1"
   ]
  },
  {
   "cell_type": "code",
   "execution_count": 6,
   "id": "700a33bb-f0a2-4708-962d-0c1db24bbc25",
   "metadata": {},
   "outputs": [
    {
     "name": "stdout",
     "output_type": "stream",
     "text": [
      "<class 'pandas.core.frame.DataFrame'>\n",
      "RangeIndex: 492 entries, 0 to 491\n",
      "Data columns (total 26 columns):\n",
      " #   Column                   Non-Null Count  Dtype  \n",
      "---  ------                   --------------  -----  \n",
      " 0   S#                       492 non-null    int64  \n",
      " 1   Date                     492 non-null    object \n",
      " 2   Islamic Date             336 non-null    object \n",
      " 3   Blast Day Type           481 non-null    object \n",
      " 4   Holiday Type             72 non-null     object \n",
      " 5   Time                     281 non-null    object \n",
      " 6   City                     492 non-null    object \n",
      " 7   Latitude                 490 non-null    float64\n",
      " 8   Longitude                490 non-null    object \n",
      " 9   Province                 492 non-null    object \n",
      " 10  Location                 489 non-null    object \n",
      " 11  Location Category        457 non-null    object \n",
      " 12  Location Sensitivity     456 non-null    object \n",
      " 13  Open/Closed Space        457 non-null    object \n",
      " 14  Influencing Event/Event  187 non-null    object \n",
      " 15  Target Type              466 non-null    object \n",
      " 16  Targeted Sect if any     97 non-null     object \n",
      " 17  Killed Min               346 non-null    float64\n",
      " 18  Killed Max               476 non-null    float64\n",
      " 19  Injured Min              361 non-null    float64\n",
      " 20  Injured Max              460 non-null    object \n",
      " 21  No. of Suicide Blasts    410 non-null    float64\n",
      " 22  Explosive Weight (max)   169 non-null    object \n",
      " 23  Hospital Names           294 non-null    object \n",
      " 24  Temperature(C)           487 non-null    float64\n",
      " 25  Temperature(F)           485 non-null    float64\n",
      "dtypes: float64(7), int64(1), object(18)\n",
      "memory usage: 100.1+ KB\n"
     ]
    }
   ],
   "source": [
    "data1.info()"
   ]
  },
  {
   "cell_type": "code",
   "execution_count": 7,
   "id": "d210ef45-28bb-4287-9113-1a36a71f812a",
   "metadata": {},
   "outputs": [
    {
     "data": {
      "text/plain": [
       "Index(['S#', 'Date', 'Islamic Date', 'Blast Day Type', 'Holiday Type', 'Time',\n",
       "       'City', 'Latitude', 'Longitude', 'Province', 'Location',\n",
       "       'Location Category', 'Location Sensitivity', 'Open/Closed Space',\n",
       "       'Influencing Event/Event', 'Target Type', 'Targeted Sect if any',\n",
       "       'Killed Min', 'Killed Max', 'Injured Min', 'Injured Max',\n",
       "       'No. of Suicide Blasts', 'Explosive Weight (max)', 'Hospital Names',\n",
       "       'Temperature(C)', 'Temperature(F)'],\n",
       "      dtype='object')"
      ]
     },
     "execution_count": 7,
     "metadata": {},
     "output_type": "execute_result"
    }
   ],
   "source": [
    "data1.columns"
   ]
  },
  {
   "cell_type": "code",
   "execution_count": 3,
   "id": "40bd51cd-8ead-482e-88be-4fa6af514c71",
   "metadata": {},
   "outputs": [],
   "source": [
    "# Removing uneccessary coulmns ('S#','Islamic Date','Time','Province','Location',\n",
    "# 'Hospital Names','Temperature(F)')\n",
    "\n",
    "data1.drop(columns=['S#','Islamic Date','Time','Province','Location',\n",
    "'Hospital Names','Temperature(F)','Blast Day Type'],inplace=True)"
   ]
  },
  {
   "cell_type": "code",
   "execution_count": 9,
   "id": "e266764c-4e8b-4a59-85ac-c41a2fc952d8",
   "metadata": {},
   "outputs": [
    {
     "data": {
      "text/html": [
       "<div>\n",
       "<style scoped>\n",
       "    .dataframe tbody tr th:only-of-type {\n",
       "        vertical-align: middle;\n",
       "    }\n",
       "\n",
       "    .dataframe tbody tr th {\n",
       "        vertical-align: top;\n",
       "    }\n",
       "\n",
       "    .dataframe thead th {\n",
       "        text-align: right;\n",
       "    }\n",
       "</style>\n",
       "<table border=\"1\" class=\"dataframe\">\n",
       "  <thead>\n",
       "    <tr style=\"text-align: right;\">\n",
       "      <th></th>\n",
       "      <th>Date</th>\n",
       "      <th>Holiday Type</th>\n",
       "      <th>City</th>\n",
       "      <th>Latitude</th>\n",
       "      <th>Longitude</th>\n",
       "      <th>Location Category</th>\n",
       "      <th>Location Sensitivity</th>\n",
       "      <th>Open/Closed Space</th>\n",
       "      <th>Influencing Event/Event</th>\n",
       "      <th>Target Type</th>\n",
       "      <th>Targeted Sect if any</th>\n",
       "      <th>Killed Min</th>\n",
       "      <th>Killed Max</th>\n",
       "      <th>Injured Min</th>\n",
       "      <th>Injured Max</th>\n",
       "      <th>No. of Suicide Blasts</th>\n",
       "      <th>Explosive Weight (max)</th>\n",
       "      <th>Temperature(C)</th>\n",
       "    </tr>\n",
       "  </thead>\n",
       "  <tbody>\n",
       "    <tr>\n",
       "      <th>0</th>\n",
       "      <td>Sunday-November 19-1995</td>\n",
       "      <td>Weekend</td>\n",
       "      <td>Islamabad</td>\n",
       "      <td>33.718000</td>\n",
       "      <td>73.0718</td>\n",
       "      <td>Foreign</td>\n",
       "      <td>High</td>\n",
       "      <td>Closed</td>\n",
       "      <td>NaN</td>\n",
       "      <td>Foreigner</td>\n",
       "      <td>NaN</td>\n",
       "      <td>14.0</td>\n",
       "      <td>15.0</td>\n",
       "      <td>NaN</td>\n",
       "      <td>60</td>\n",
       "      <td>2.0</td>\n",
       "      <td>NaN</td>\n",
       "      <td>15.835</td>\n",
       "    </tr>\n",
       "    <tr>\n",
       "      <th>1</th>\n",
       "      <td>Monday-November 6-2000</td>\n",
       "      <td>NaN</td>\n",
       "      <td>Karachi</td>\n",
       "      <td>24.991800</td>\n",
       "      <td>66.9911</td>\n",
       "      <td>Office Building</td>\n",
       "      <td>Low</td>\n",
       "      <td>Closed</td>\n",
       "      <td>NaN</td>\n",
       "      <td>Media</td>\n",
       "      <td>NaN</td>\n",
       "      <td>NaN</td>\n",
       "      <td>3.0</td>\n",
       "      <td>NaN</td>\n",
       "      <td>3</td>\n",
       "      <td>1.0</td>\n",
       "      <td>NaN</td>\n",
       "      <td>23.770</td>\n",
       "    </tr>\n",
       "    <tr>\n",
       "      <th>2</th>\n",
       "      <td>Wednesday-May 8-2002</td>\n",
       "      <td>NaN</td>\n",
       "      <td>Karachi</td>\n",
       "      <td>24.991800</td>\n",
       "      <td>66.9911</td>\n",
       "      <td>Hotel</td>\n",
       "      <td>Medium</td>\n",
       "      <td>Closed</td>\n",
       "      <td>NaN</td>\n",
       "      <td>Foreigner</td>\n",
       "      <td>Christian</td>\n",
       "      <td>13.0</td>\n",
       "      <td>15.0</td>\n",
       "      <td>20.0</td>\n",
       "      <td>40</td>\n",
       "      <td>1.0</td>\n",
       "      <td>2.5 Kg</td>\n",
       "      <td>31.460</td>\n",
       "    </tr>\n",
       "    <tr>\n",
       "      <th>3</th>\n",
       "      <td>Friday-June 14-2002</td>\n",
       "      <td>NaN</td>\n",
       "      <td>Karachi</td>\n",
       "      <td>24.991800</td>\n",
       "      <td>66.9911</td>\n",
       "      <td>Foreign</td>\n",
       "      <td>High</td>\n",
       "      <td>Closed</td>\n",
       "      <td>NaN</td>\n",
       "      <td>Foreigner</td>\n",
       "      <td>Christian</td>\n",
       "      <td>NaN</td>\n",
       "      <td>12.0</td>\n",
       "      <td>NaN</td>\n",
       "      <td>51</td>\n",
       "      <td>1.0</td>\n",
       "      <td>NaN</td>\n",
       "      <td>31.430</td>\n",
       "    </tr>\n",
       "    <tr>\n",
       "      <th>4</th>\n",
       "      <td>Friday-July 4-2003</td>\n",
       "      <td>NaN</td>\n",
       "      <td>Quetta</td>\n",
       "      <td>30.209500</td>\n",
       "      <td>67.0182</td>\n",
       "      <td>Religious</td>\n",
       "      <td>Medium</td>\n",
       "      <td>Closed</td>\n",
       "      <td>during Friday prayer</td>\n",
       "      <td>Religious</td>\n",
       "      <td>Shiite</td>\n",
       "      <td>44.0</td>\n",
       "      <td>47.0</td>\n",
       "      <td>NaN</td>\n",
       "      <td>65</td>\n",
       "      <td>1.0</td>\n",
       "      <td>NaN</td>\n",
       "      <td>33.120</td>\n",
       "    </tr>\n",
       "    <tr>\n",
       "      <th>...</th>\n",
       "      <td>...</td>\n",
       "      <td>...</td>\n",
       "      <td>...</td>\n",
       "      <td>...</td>\n",
       "      <td>...</td>\n",
       "      <td>...</td>\n",
       "      <td>...</td>\n",
       "      <td>...</td>\n",
       "      <td>...</td>\n",
       "      <td>...</td>\n",
       "      <td>...</td>\n",
       "      <td>...</td>\n",
       "      <td>...</td>\n",
       "      <td>...</td>\n",
       "      <td>...</td>\n",
       "      <td>...</td>\n",
       "      <td>...</td>\n",
       "      <td>...</td>\n",
       "    </tr>\n",
       "    <tr>\n",
       "      <th>487</th>\n",
       "      <td>Monday-July-17-2017</td>\n",
       "      <td>NaN</td>\n",
       "      <td>Peshawar</td>\n",
       "      <td>34.015000</td>\n",
       "      <td>71.5805</td>\n",
       "      <td>Military</td>\n",
       "      <td>High</td>\n",
       "      <td>open</td>\n",
       "      <td>suicide bomber riding on a motorcycle hit a Fr...</td>\n",
       "      <td>Military</td>\n",
       "      <td>NaN</td>\n",
       "      <td>1.0</td>\n",
       "      <td>2.0</td>\n",
       "      <td>1.0</td>\n",
       "      <td>7</td>\n",
       "      <td>1.0</td>\n",
       "      <td>NaN</td>\n",
       "      <td>37.000</td>\n",
       "    </tr>\n",
       "    <tr>\n",
       "      <th>488</th>\n",
       "      <td>Monday-July-17-2017</td>\n",
       "      <td>NaN</td>\n",
       "      <td>Peshawar</td>\n",
       "      <td>34.015000</td>\n",
       "      <td>71.5805</td>\n",
       "      <td>Military</td>\n",
       "      <td>High</td>\n",
       "      <td>Open</td>\n",
       "      <td>bomb struck in southwestern Chaman province</td>\n",
       "      <td>Military</td>\n",
       "      <td>NaN</td>\n",
       "      <td>1.0</td>\n",
       "      <td>1.0</td>\n",
       "      <td>1.0</td>\n",
       "      <td>1</td>\n",
       "      <td>1.0</td>\n",
       "      <td>NaN</td>\n",
       "      <td>37.000</td>\n",
       "    </tr>\n",
       "    <tr>\n",
       "      <th>489</th>\n",
       "      <td>Monday-July-24-2017</td>\n",
       "      <td>NaN</td>\n",
       "      <td>Lahore</td>\n",
       "      <td>31.500875</td>\n",
       "      <td>74.33312</td>\n",
       "      <td>NaN</td>\n",
       "      <td>Medium</td>\n",
       "      <td>Open</td>\n",
       "      <td>NaN</td>\n",
       "      <td>Police</td>\n",
       "      <td>NaN</td>\n",
       "      <td>26.0</td>\n",
       "      <td>27.0</td>\n",
       "      <td>56.0</td>\n",
       "      <td>56</td>\n",
       "      <td>1.0</td>\n",
       "      <td>NaN</td>\n",
       "      <td>32.000</td>\n",
       "    </tr>\n",
       "    <tr>\n",
       "      <th>490</th>\n",
       "      <td>Saturday-August-12-2017</td>\n",
       "      <td>NaN</td>\n",
       "      <td>Quetta</td>\n",
       "      <td>30.203658</td>\n",
       "      <td>67.004469</td>\n",
       "      <td>NaN</td>\n",
       "      <td>Medium</td>\n",
       "      <td>Open</td>\n",
       "      <td>the attacker had been carrying 25kg of “incend...</td>\n",
       "      <td>Military</td>\n",
       "      <td>NaN</td>\n",
       "      <td>15.0</td>\n",
       "      <td>15.0</td>\n",
       "      <td>40.0</td>\n",
       "      <td>40</td>\n",
       "      <td>1.0</td>\n",
       "      <td>25KG</td>\n",
       "      <td>29.000</td>\n",
       "    </tr>\n",
       "    <tr>\n",
       "      <th>491</th>\n",
       "      <td>Thursday-October-05-2017</td>\n",
       "      <td>NaN</td>\n",
       "      <td>Quetta</td>\n",
       "      <td>28.571051</td>\n",
       "      <td>67.496895</td>\n",
       "      <td>Religious</td>\n",
       "      <td>High</td>\n",
       "      <td>Open/Closed</td>\n",
       "      <td>at the entrance of shrine</td>\n",
       "      <td>Civilian</td>\n",
       "      <td>NaN</td>\n",
       "      <td>21.0</td>\n",
       "      <td>22.0</td>\n",
       "      <td>25.0</td>\n",
       "      <td>NaN</td>\n",
       "      <td>1.0</td>\n",
       "      <td>NaN</td>\n",
       "      <td>27.800</td>\n",
       "    </tr>\n",
       "  </tbody>\n",
       "</table>\n",
       "<p>492 rows × 18 columns</p>\n",
       "</div>"
      ],
      "text/plain": [
       "                         Date Holiday Type       City   Latitude  Longitude  \\\n",
       "0     Sunday-November 19-1995      Weekend  Islamabad  33.718000    73.0718   \n",
       "1      Monday-November 6-2000          NaN    Karachi  24.991800    66.9911   \n",
       "2        Wednesday-May 8-2002          NaN   Karachi   24.991800    66.9911   \n",
       "3         Friday-June 14-2002          NaN    Karachi  24.991800    66.9911   \n",
       "4          Friday-July 4-2003          NaN     Quetta  30.209500    67.0182   \n",
       "..                        ...          ...        ...        ...        ...   \n",
       "487       Monday-July-17-2017          NaN   Peshawar  34.015000    71.5805   \n",
       "488       Monday-July-17-2017          NaN   Peshawar  34.015000    71.5805   \n",
       "489       Monday-July-24-2017          NaN     Lahore  31.500875   74.33312   \n",
       "490   Saturday-August-12-2017          NaN     Quetta  30.203658  67.004469   \n",
       "491  Thursday-October-05-2017          NaN     Quetta  28.571051  67.496895   \n",
       "\n",
       "    Location Category Location Sensitivity Open/Closed Space  \\\n",
       "0             Foreign                 High            Closed   \n",
       "1     Office Building                  Low            Closed   \n",
       "2               Hotel               Medium            Closed   \n",
       "3             Foreign                 High            Closed   \n",
       "4           Religious               Medium            Closed   \n",
       "..                ...                  ...               ...   \n",
       "487          Military                 High              open   \n",
       "488          Military                 High              Open   \n",
       "489               NaN               Medium              Open   \n",
       "490               NaN               Medium              Open   \n",
       "491         Religious                 High       Open/Closed   \n",
       "\n",
       "                               Influencing Event/Event Target Type  \\\n",
       "0                                                  NaN   Foreigner   \n",
       "1                                                  NaN       Media   \n",
       "2                                                  NaN   Foreigner   \n",
       "3                                                  NaN   Foreigner   \n",
       "4                                 during Friday prayer   Religious   \n",
       "..                                                 ...         ...   \n",
       "487  suicide bomber riding on a motorcycle hit a Fr...    Military   \n",
       "488        bomb struck in southwestern Chaman province    Military   \n",
       "489                                                NaN      Police   \n",
       "490  the attacker had been carrying 25kg of “incend...    Military   \n",
       "491                          at the entrance of shrine    Civilian   \n",
       "\n",
       "    Targeted Sect if any  Killed Min  Killed Max  Injured Min Injured Max  \\\n",
       "0                    NaN        14.0        15.0          NaN          60   \n",
       "1                    NaN         NaN         3.0          NaN           3   \n",
       "2              Christian        13.0        15.0         20.0          40   \n",
       "3              Christian         NaN        12.0          NaN          51   \n",
       "4                 Shiite        44.0        47.0          NaN          65   \n",
       "..                   ...         ...         ...          ...         ...   \n",
       "487                  NaN         1.0         2.0          1.0           7   \n",
       "488                  NaN         1.0         1.0          1.0           1   \n",
       "489                  NaN        26.0        27.0         56.0          56   \n",
       "490                  NaN        15.0        15.0         40.0          40   \n",
       "491                  NaN        21.0        22.0         25.0         NaN   \n",
       "\n",
       "     No. of Suicide Blasts Explosive Weight (max)  Temperature(C)  \n",
       "0                      2.0                    NaN          15.835  \n",
       "1                      1.0                    NaN          23.770  \n",
       "2                      1.0                 2.5 Kg          31.460  \n",
       "3                      1.0                    NaN          31.430  \n",
       "4                      1.0                    NaN          33.120  \n",
       "..                     ...                    ...             ...  \n",
       "487                    1.0                    NaN          37.000  \n",
       "488                    1.0                    NaN          37.000  \n",
       "489                    1.0                    NaN          32.000  \n",
       "490                    1.0                   25KG          29.000  \n",
       "491                    1.0                    NaN          27.800  \n",
       "\n",
       "[492 rows x 18 columns]"
      ]
     },
     "execution_count": 9,
     "metadata": {},
     "output_type": "execute_result"
    }
   ],
   "source": [
    "data1"
   ]
  },
  {
   "cell_type": "code",
   "execution_count": 10,
   "id": "f14f6a7f-0a7c-4b20-a747-0c2c16adafbd",
   "metadata": {},
   "outputs": [
    {
     "data": {
      "text/plain": [
       "Date                         0\n",
       "Holiday Type               420\n",
       "City                         0\n",
       "Latitude                     2\n",
       "Longitude                    2\n",
       "Location Category           35\n",
       "Location Sensitivity        36\n",
       "Open/Closed Space           35\n",
       "Influencing Event/Event    305\n",
       "Target Type                 26\n",
       "Targeted Sect if any       395\n",
       "Killed Min                 146\n",
       "Killed Max                  16\n",
       "Injured Min                131\n",
       "Injured Max                 32\n",
       "No. of Suicide Blasts       82\n",
       "Explosive Weight (max)     323\n",
       "Temperature(C)               5\n",
       "dtype: int64"
      ]
     },
     "execution_count": 10,
     "metadata": {},
     "output_type": "execute_result"
    }
   ],
   "source": [
    "# Detecting the total number of nulls in each column\n",
    "\n",
    "data1.isna().sum() "
   ]
  },
  {
   "cell_type": "markdown",
   "id": "df06ab45-9bf5-4632-b223-13c5e7b13bd2",
   "metadata": {},
   "source": [
    "#### Extacting and Cleaning Each Column"
   ]
  },
  {
   "cell_type": "markdown",
   "id": "f270b783-4f2a-48c5-8b32-886ddff08914",
   "metadata": {},
   "source": [
    "##### 1. Holiday Type Column:"
   ]
  },
  {
   "cell_type": "code",
   "execution_count": 11,
   "id": "768c84ee-d520-47a5-9855-873553b0ada2",
   "metadata": {},
   "outputs": [
    {
     "data": {
      "text/plain": [
       "array(['Weekend', nan, 'Christmas/birthday of Quaid-e-Azam', 'Ashura',\n",
       "       'Eid Milad un-Nabi', 'Iqbal Day', 'Eid-ul-azha', 'Labour Day',\n",
       "       'Eid-ul-Fitar', 'Pakistan Day', 'Defence Day',\n",
       "       'Christmas/ birthday of Quaid-e-Azam', 'General Elections',\n",
       "       'Eid Holidays', 'Ashura Holiday', 'Eid ul Azha Holiday'],\n",
       "      dtype=object)"
      ]
     },
     "execution_count": 11,
     "metadata": {},
     "output_type": "execute_result"
    }
   ],
   "source": [
    "data1[ \"Holiday Type\"].unique()"
   ]
  },
  {
   "cell_type": "code",
   "execution_count": 13,
   "id": "245d0c60-88c9-4d15-b250-5a002d2ff9e6",
   "metadata": {},
   "outputs": [],
   "source": [
    "# Filling Nan with Working Day\n",
    "\n",
    "data1.fillna({\"Holiday Type\":\"Working Day\"},inplace=True)"
   ]
  },
  {
   "cell_type": "markdown",
   "id": "73a05a2d-9c59-467d-8368-697d51921235",
   "metadata": {},
   "source": [
    "##### 2. Longitude Column:"
   ]
  },
  {
   "cell_type": "code",
   "execution_count": 14,
   "id": "ce35267e-3fde-4e16-9d42-80d87c00151e",
   "metadata": {},
   "outputs": [
    {
     "data": {
      "text/plain": [
       "array([73.0718, 66.9911, 67.0182, 73.0437, 70.1456, 71.4333, 72.3667,\n",
       "       74.5361, 74.3407, 72.4258, 71.0713, 70.6042, 66.5224, 71.9046,\n",
       "       71.5448, 70.9095, 70.9148, 74.0786, 71.7359, 70.3761, 72.757,\n",
       "       71.5249, 69.8597, 72.9372, 72.6718, 73.0944, 70.6688, 71.5131,\n",
       "       71.2874, 72.0444, 71.065, 72.6151, 72.1833, 70.6333, 67, 72.8556,\n",
       "       71.8749, 73.4711, 72.5, 71.4559, 73.7242, 73.7949, 73.2, 71.0951,\n",
       "       72.4702, 68.6667, 68.8667, 66.4447, 71.9308, 72.6378, 62.35,\n",
       "       70.51364, 74.5729, 69.45, 73.0333, 72.6711, 70.1455, nan,\n",
       "       72.362147, 71.449009, 71.287421, 67.174575, 70.658161, 66.998734,\n",
       "       68.712889, 72.050801, 67.00178, 71.42502, 69.448659, 67.010157,\n",
       "       71.742781, 74.28899, 71.28436, 72.049453, 72.037771, 67.008822,\n",
       "       72.036565, 68.730383, 71.560424, 66.98195, 67.02239, 71.398789,\n",
       "       70.60908, 74.331873, 71.333333, '\\xa071.456944', 71.434141,\n",
       "       67.859373, 71.653889, 74.435675, 66.848056, 71.340408, 70.10878,\n",
       "       66.452402, 71.5805, 74.33312, 67.004469, 67.496895], dtype=object)"
      ]
     },
     "execution_count": 14,
     "metadata": {},
     "output_type": "execute_result"
    }
   ],
   "source": [
    "data1['Longitude'].unique()"
   ]
  },
  {
   "cell_type": "code",
   "execution_count": 15,
   "id": "33fc2c3a-0331-4b1c-b294-959dc6b01b8d",
   "metadata": {},
   "outputs": [],
   "source": [
    "# Converting Longitude's datatype from object to float\n",
    "data1['Longitude']=data1['Longitude'].astype(float)"
   ]
  },
  {
   "cell_type": "markdown",
   "id": "adaa8bd5-1838-4252-894a-bf0131c068a2",
   "metadata": {},
   "source": [
    "##### 3. Location Category Column:"
   ]
  },
  {
   "cell_type": "code",
   "execution_count": 16,
   "id": "df80b12c-7913-4c05-b784-f55d21774c11",
   "metadata": {},
   "outputs": [],
   "source": [
    "data1.fillna({\"Location Category\":\"Unspecified\"},inplace=True)"
   ]
  },
  {
   "cell_type": "markdown",
   "id": "c3e424bf-aac5-4aae-8818-7d11873009b1",
   "metadata": {},
   "source": [
    "##### 4. Location Sensitivity Column:"
   ]
  },
  {
   "cell_type": "code",
   "execution_count": 17,
   "id": "6fe48491-65ef-4b4d-9100-e015ab7f086d",
   "metadata": {},
   "outputs": [
    {
     "data": {
      "text/plain": [
       "array(['High', 'Low', 'Medium', nan, 'low'], dtype=object)"
      ]
     },
     "execution_count": 17,
     "metadata": {},
     "output_type": "execute_result"
    }
   ],
   "source": [
    "data1['Location Sensitivity'].unique()"
   ]
  },
  {
   "cell_type": "code",
   "execution_count": 18,
   "id": "28a26642-86cf-46ec-a9b8-b4615fb005b3",
   "metadata": {},
   "outputs": [],
   "source": [
    "# Replacing all 'low' with 'Low' by filtering\n",
    "\n",
    "filt=data1[\"Location Sensitivity\"]=='low'\n",
    "data1.loc[filt,\"Location Sensitivity\"]='Low'"
   ]
  },
  {
   "cell_type": "code",
   "execution_count": 21,
   "id": "755cbe28-a302-4ea4-8448-26551f67fce3",
   "metadata": {},
   "outputs": [],
   "source": [
    "#Filling all nan with Unspecified\n",
    "\n",
    "data1.fillna({\"Location Sensitivity\":\"Unspecified\"},inplace=True)"
   ]
  },
  {
   "cell_type": "code",
   "execution_count": 22,
   "id": "ff563b18-3095-424e-98dc-f83f7422d9ac",
   "metadata": {},
   "outputs": [
    {
     "data": {
      "text/plain": [
       "array(['High', 'Low', 'Medium', 'Unspecified'], dtype=object)"
      ]
     },
     "execution_count": 22,
     "metadata": {},
     "output_type": "execute_result"
    }
   ],
   "source": [
    "# Just to confirm the columns\n",
    "\n",
    "data1['Location Sensitivity'].unique()"
   ]
  },
  {
   "cell_type": "markdown",
   "id": "fed13efa-dafe-4c35-8be5-69e7c65d1574",
   "metadata": {},
   "source": [
    "##### 5. Open/Closed space Column:"
   ]
  },
  {
   "cell_type": "code",
   "execution_count": 23,
   "id": "896d3b34-9351-4f7d-95c4-c3688b96034e",
   "metadata": {},
   "outputs": [
    {
     "data": {
      "text/plain": [
       "array(['Closed', 'Open', 'open', 'Open ', nan, 'closed', 'Open/Closed'],\n",
       "      dtype=object)"
      ]
     },
     "execution_count": 23,
     "metadata": {},
     "output_type": "execute_result"
    }
   ],
   "source": [
    "data1[\"Open/Closed Space\"].unique()"
   ]
  },
  {
   "cell_type": "code",
   "execution_count": 30,
   "id": "a312370b-8289-49f5-a8ff-521f31750d37",
   "metadata": {},
   "outputs": [],
   "source": [
    "# Replacing all 'open' with 'Open' by filtering\n",
    "\n",
    "filt=data1[\"Open/Closed Space\"]=='open'\n",
    "data1.loc[filt,\"Open/Closed Space\"]='Open'"
   ]
  },
  {
   "cell_type": "code",
   "execution_count": 31,
   "id": "e915dfeb-3de2-42d3-8067-31c6847721f2",
   "metadata": {},
   "outputs": [],
   "source": [
    "# Replacing all 'closed' with 'Closed' by filtering\n",
    "\n",
    "filt=data1[\"Open/Closed Space\"]=='closed'\n",
    "data1.loc[filt,\"Open/Closed Space\"]='Closed'"
   ]
  },
  {
   "cell_type": "code",
   "execution_count": 32,
   "id": "224d61a8-c3c7-418c-a001-a00ff4b0c1dc",
   "metadata": {},
   "outputs": [],
   "source": [
    "#Filling all nan with Unspecified\n",
    "\n",
    "data1.fillna({\"Open/Closed Space\":\"Unspecified\"},inplace=True)"
   ]
  },
  {
   "cell_type": "code",
   "execution_count": 33,
   "id": "e86735e6-705e-41c9-8963-c8274e33445f",
   "metadata": {},
   "outputs": [
    {
     "data": {
      "text/plain": [
       "array(['Closed', 'Open', 'Open ', 'Unspecified', 'Open/Closed'],\n",
       "      dtype=object)"
      ]
     },
     "execution_count": 33,
     "metadata": {},
     "output_type": "execute_result"
    }
   ],
   "source": [
    "# Just to confirm the columns\n",
    "\n",
    "data1['Open/Closed Space'].unique()"
   ]
  },
  {
   "cell_type": "markdown",
   "id": "d51a35e7-b48d-4061-9c65-74a26e8f8745",
   "metadata": {},
   "source": [
    "##### 6. Influencing Event/Events"
   ]
  },
  {
   "cell_type": "code",
   "execution_count": 34,
   "id": "66f3dd02-1130-40f5-8fba-f99ec7179976",
   "metadata": {},
   "outputs": [],
   "source": [
    "data1.fillna({\"Influencing Event/Event\":\"Unspecified\"},inplace=True)"
   ]
  },
  {
   "cell_type": "markdown",
   "id": "b16753b2-4cac-4d38-907e-39db3c2ad755",
   "metadata": {},
   "source": [
    "##### 7. Target Type Column:"
   ]
  },
  {
   "cell_type": "code",
   "execution_count": 36,
   "id": "8d4a358e-6b2d-4cb1-940c-48430df3b99e",
   "metadata": {},
   "outputs": [],
   "source": [
    "data1.fillna({\"Target Type\":\"Unspecified\"},inplace=True)"
   ]
  },
  {
   "cell_type": "markdown",
   "id": "ac85f157-28e4-4f31-9ba8-36606ac79e70",
   "metadata": {},
   "source": [
    "##### 8 Target Set if any Column:"
   ]
  },
  {
   "cell_type": "code",
   "execution_count": 38,
   "id": "2de8f5ce-9d18-4b0e-9c12-95934867d8e8",
   "metadata": {},
   "outputs": [],
   "source": [
    "data1.fillna({\"Targeted Sect if any\":\"Unspecified\"},inplace=True)"
   ]
  },
  {
   "cell_type": "markdown",
   "id": "2dd22284-48ac-4395-b028-0e7dc9d071f0",
   "metadata": {},
   "source": [
    "#### 9. Killed Max, Killed Min, Injured Max, Injured Min, No.of Suicide Blasts,Explosive Weight(max) ==> fill average"
   ]
  },
  {
   "cell_type": "markdown",
   "id": "5703952a-ecc0-4dea-b5e6-2170440eefd9",
   "metadata": {},
   "source": [
    "##### 9a. Killed Max"
   ]
  },
  {
   "cell_type": "code",
   "execution_count": 39,
   "id": "dae33be6-9ab9-48af-8e31-140d33c037eb",
   "metadata": {},
   "outputs": [],
   "source": [
    "#avg=round(data1['Killed Max'].mean(),0)\n",
    "#print(avg)\n",
    "#data1.fillna({\"killed max\":\"avarage\",inplace=True})\n",
    "\n",
    "avg_KilledMax = round(data1['Killed Max'].mean(), 0)"
   ]
  },
  {
   "cell_type": "code",
   "execution_count": 40,
   "id": "7a3417a7-613e-4cfe-8996-cac6ab612068",
   "metadata": {},
   "outputs": [
    {
     "name": "stdout",
     "output_type": "stream",
     "text": [
      "15.0\n"
     ]
    }
   ],
   "source": [
    "print(avg_KilledMax)"
   ]
  },
  {
   "cell_type": "code",
   "execution_count": 41,
   "id": "afb04a00-5533-49f2-82de-7624cd712462",
   "metadata": {},
   "outputs": [],
   "source": [
    "data1.fillna({\"Killed Max\":\"avg_KilledMax\"},inplace=True)"
   ]
  },
  {
   "cell_type": "markdown",
   "id": "3844dd93-cc19-439d-9814-c6294d735326",
   "metadata": {},
   "source": [
    "##### 9b. Killed Min"
   ]
  },
  {
   "cell_type": "code",
   "execution_count": 42,
   "id": "19103bb3-2685-4178-9ad4-9888a78483f7",
   "metadata": {},
   "outputs": [],
   "source": [
    "#avg=round(data1['Killed Min'].mean(),0)\n",
    "#print(avg)\n",
    "#data1.fillna({\"killed min\":\"avarage\",inplace=True})\n",
    "\n",
    "avg_KilledMin = round(data1['Killed Min'].mean(), 0)"
   ]
  },
  {
   "cell_type": "code",
   "execution_count": 43,
   "id": "4180a17f-6ba7-4fa3-a377-0e161b3f63ec",
   "metadata": {},
   "outputs": [
    {
     "name": "stdout",
     "output_type": "stream",
     "text": [
      "15.0\n"
     ]
    }
   ],
   "source": [
    "print(avg_KilledMin)"
   ]
  },
  {
   "cell_type": "code",
   "execution_count": 45,
   "id": "df20c2fa-452c-4686-bd73-be8cf51f3b16",
   "metadata": {},
   "outputs": [],
   "source": [
    "data1.fillna({\"Killed Min\":\"avg_KilledMin\"},inplace=True)"
   ]
  },
  {
   "cell_type": "markdown",
   "id": "8de5a26f-57f7-4d71-965a-68ecfff5d6cb",
   "metadata": {},
   "source": [
    "##### 9c. Injured Max"
   ]
  },
  {
   "cell_type": "code",
   "execution_count": 46,
   "id": "f102c647-1def-40b2-95b3-692ccb2c2590",
   "metadata": {},
   "outputs": [],
   "source": [
    "#avg=int(round(data1['Injured Max'].mean()))\n",
    "#print(avg)\n",
    "#data1.fillna({\"Injured Max\":\"avarage\",inplace=True})\n",
    "\n",
    "data1['Injured Max'] = pd.to_numeric(data1['Injured Max'], errors='coerce')\n",
    "avg_InjuredMax = int(round(data1['Injured Max'].mean()))"
   ]
  },
  {
   "cell_type": "code",
   "execution_count": 47,
   "id": "d6cf25a4-9106-47d1-86bc-ed260ed0a946",
   "metadata": {},
   "outputs": [
    {
     "name": "stdout",
     "output_type": "stream",
     "text": [
      "40\n"
     ]
    }
   ],
   "source": [
    "print(avg_InjuredMax)"
   ]
  },
  {
   "cell_type": "code",
   "execution_count": 49,
   "id": "ff29f6ff-ddb6-4209-9108-4764d07e3857",
   "metadata": {},
   "outputs": [],
   "source": [
    "data1.fillna({\"Injured Max\":\"avg_InjuredMax\"},inplace=True)"
   ]
  },
  {
   "cell_type": "markdown",
   "id": "8a19f03a-9b8e-46e9-800e-926879d19245",
   "metadata": {},
   "source": [
    "##### 9d. Injured Min"
   ]
  },
  {
   "cell_type": "code",
   "execution_count": 50,
   "id": "5854eee3-b6cd-4242-b12a-27ff30d93b2e",
   "metadata": {},
   "outputs": [],
   "source": [
    "#avg=round(data1['Injured Max'].mean(),0)\n",
    "#print(avg)\n",
    "#data1.fillna({\"Injured Max\":\"avarage\",inplace=True})\n",
    "\n",
    "avg_InjuredMin = round(data1['Injured Min'].mean(),0)"
   ]
  },
  {
   "cell_type": "code",
   "execution_count": 51,
   "id": "34297ef3-5c22-4267-ae66-8dcd177385b4",
   "metadata": {},
   "outputs": [
    {
     "data": {
      "text/plain": [
       "32.0"
      ]
     },
     "execution_count": 51,
     "metadata": {},
     "output_type": "execute_result"
    }
   ],
   "source": [
    "avg_InjuredMin"
   ]
  },
  {
   "cell_type": "code",
   "execution_count": 52,
   "id": "479f4288-68e0-4686-be8f-4af51479d68f",
   "metadata": {},
   "outputs": [],
   "source": [
    "data1.fillna({\"Injured Min\":\"avg_InjuredMin\"},inplace=True)"
   ]
  },
  {
   "cell_type": "markdown",
   "id": "62f2dd5c-fc98-4d9d-8554-476047ef57e5",
   "metadata": {},
   "source": [
    "##### 9e. No.of Suicide Blasts"
   ]
  },
  {
   "cell_type": "code",
   "execution_count": 53,
   "id": "07179d30-6248-44bf-8fc4-aff2aec34f17",
   "metadata": {},
   "outputs": [],
   "source": [
    "#avg=round(data1['No.of Suicide Blasts'].mean(),0)\n",
    "#print(avg)\n",
    "#data1.fillna({\"No.of Suicide Blasts\":\"avarage\",inplace=True})"
   ]
  },
  {
   "cell_type": "code",
   "execution_count": 55,
   "id": "b7890e61-2f71-4c29-a032-e7edb4434e51",
   "metadata": {},
   "outputs": [],
   "source": [
    "avg_suicideBlast =round(data1['No. of Suicide Blasts'].mean(),0)"
   ]
  },
  {
   "cell_type": "code",
   "execution_count": 56,
   "id": "acb9edf2-54ba-48cc-bfd3-3d4e65ce09fd",
   "metadata": {},
   "outputs": [
    {
     "name": "stdout",
     "output_type": "stream",
     "text": [
      "1.0\n"
     ]
    }
   ],
   "source": [
    "print(avg_suicideBlast)"
   ]
  },
  {
   "cell_type": "code",
   "execution_count": 57,
   "id": "717f3394-d28c-4850-8da3-aad6885d7fcf",
   "metadata": {},
   "outputs": [],
   "source": [
    "data1.fillna({\"No. of Suicide Blasts\":\"avg_suicideBlast\"},inplace=True)"
   ]
  },
  {
   "cell_type": "markdown",
   "id": "b6802abf-9ce8-439d-bfcc-e94f902960a4",
   "metadata": {},
   "source": [
    "##### 9f. Explosive Weight (max) Column:"
   ]
  },
  {
   "cell_type": "code",
   "execution_count": 59,
   "id": "4abe4d71-c6d1-403c-acba-6f72c0fc6f84",
   "metadata": {},
   "outputs": [
    {
     "data": {
      "text/plain": [
       "array([ nan, 100.,  85., 160.])"
      ]
     },
     "execution_count": 59,
     "metadata": {},
     "output_type": "execute_result"
    }
   ],
   "source": [
    "data1[\"Explosive Weight (max)\"].unique()"
   ]
  },
  {
   "cell_type": "code",
   "execution_count": null,
   "id": "252ff451-9e85-43ab-8918-c097c81f3b02",
   "metadata": {},
   "outputs": [],
   "source": [
    "#avg=round(data1['Explosive Weight(max)'].mean(),1)\n",
    "#print(avg)\n",
    "#data1.fillna({\"Explosive Weight(max)\":\"avarage\",inplace=True})"
   ]
  },
  {
   "cell_type": "code",
   "execution_count": 60,
   "id": "c7abbefd-daa8-4faf-9e06-d59f4ca9cfaa",
   "metadata": {},
   "outputs": [],
   "source": [
    "data1['Explosive Weight (max)'] = pd.to_numeric(data1['Explosive Weight (max)'], errors='coerce')"
   ]
  },
  {
   "cell_type": "code",
   "execution_count": 63,
   "id": "381729d5-c2d4-42b3-a87d-aa6bf015c13a",
   "metadata": {},
   "outputs": [],
   "source": [
    "avg_Explosive=round(data1['Explosive Weight (max)'].mean(),1)"
   ]
  },
  {
   "cell_type": "code",
   "execution_count": 64,
   "id": "e158e4cd-5bb3-4349-b77b-3734f3b98654",
   "metadata": {},
   "outputs": [
    {
     "name": "stdout",
     "output_type": "stream",
     "text": [
      "115.0\n"
     ]
    }
   ],
   "source": [
    "print(avg_Explosive)"
   ]
  },
  {
   "cell_type": "code",
   "execution_count": 65,
   "id": "41a4c588-e307-4126-967c-2af40667d340",
   "metadata": {},
   "outputs": [],
   "source": [
    "data1.fillna({\"avg_Explosive\":\"Unspecified\"},inplace=True)"
   ]
  },
  {
   "cell_type": "markdown",
   "id": "f6c4d0aa-e619-4e36-a31b-1c5c26b17821",
   "metadata": {},
   "source": [
    "##### 10. Date Column:"
   ]
  },
  {
   "cell_type": "code",
   "execution_count": 26,
   "id": "dadd3e41-f74e-4ecd-a51b-9655fb9d237d",
   "metadata": {},
   "outputs": [
    {
     "name": "stdout",
     "output_type": "stream",
     "text": [
      "0       Sunday-November 19-1995\n",
      "1        Monday-November 6-2000\n",
      "2          Wednesday-May 8-2002\n",
      "3           Friday-June 14-2002\n",
      "4            Friday-July 4-2003\n",
      "5     Thursday-December 25-2003\n",
      "6     Saturday-February 28-2004\n",
      "7             Friday-May 7-2004\n",
      "8            Monday-May 31-2004\n",
      "9          Thursday-June 3-2004\n",
      "10       Wednesday-July 28-2004\n",
      "11          Friday-July 30-2004\n",
      "12        Friday-October 1-2004\n",
      "13       Sunday-October 10-2004\n",
      "14       Saturday-March 19-2005\n",
      "15       Thursday-April 28-2005\n",
      "16           Friday-May 27-2005\n",
      "17           Monday-May 30-2005\n",
      "18     Thursday-February 9-2006\n",
      "19        Thursday-March 2-2006\n",
      "Name: Date, dtype: object\n"
     ]
    }
   ],
   "source": [
    "print(data1['Date'].head(20))"
   ]
  },
  {
   "cell_type": "code",
   "execution_count": 27,
   "id": "e666303c-4af4-4d06-8b7c-7cd140c54578",
   "metadata": {},
   "outputs": [],
   "source": [
    "# Fix typo in weekday\n",
    "data1['Date'] = data1['Date'].astype(str).str.replace(\"Thursay\", \"Thursday\", regex=False)"
   ]
  },
  {
   "cell_type": "code",
   "execution_count": 28,
   "id": "34451eb2-61bb-4a62-9cd6-1d48ad77f377",
   "metadata": {},
   "outputs": [],
   "source": [
    "# Change to datetime format\n",
    "data1['Date'] = pd.to_datetime(\n",
    "    data1['Date'].str.strip(), \n",
    "    format=\"%A-%B %d-%Y\", \n",
    "    errors=\"coerce\"\n",
    ")"
   ]
  },
  {
   "cell_type": "code",
   "execution_count": 29,
   "id": "2f82eb39-d892-438f-8b5f-1d05532960ed",
   "metadata": {},
   "outputs": [
    {
     "name": "stdout",
     "output_type": "stream",
     "text": [
      "0    1995-11-19\n",
      "1    2000-11-06\n",
      "2    2002-05-08\n",
      "3    2002-06-14\n",
      "4    2003-07-04\n",
      "5    2003-12-25\n",
      "6    2004-02-28\n",
      "7    2004-05-07\n",
      "8    2004-05-31\n",
      "9    2004-06-03\n",
      "10   2004-07-28\n",
      "11   2004-07-30\n",
      "12   2004-10-01\n",
      "13   2004-10-10\n",
      "14   2005-03-19\n",
      "15   2005-04-28\n",
      "16   2005-05-27\n",
      "17   2005-05-30\n",
      "18   2006-02-09\n",
      "19   2006-03-02\n",
      "Name: Date, dtype: datetime64[ns]\n"
     ]
    }
   ],
   "source": [
    "print(data1['Date'].head(20))"
   ]
  },
  {
   "cell_type": "markdown",
   "id": "f278702e-e8e4-49be-a400-5346c5fa4b6b",
   "metadata": {},
   "source": [
    "#### Exploratory Data Analysis"
   ]
  },
  {
   "cell_type": "code",
   "execution_count": 15,
   "id": "c3a103f3-69e4-45b0-83d2-76a14c65b676",
   "metadata": {},
   "outputs": [],
   "source": [
    "#EXTRACTING YEAR FROM DATE COLUMN:\n",
    "\n",
    "# My date column is called \"Date\"\n",
    "data1[\"Year\"] = pd.to_datetime(data1[\"Date\"], errors=\"coerce\").dt.year\n",
    "\n",
    "# Drop rows where Year is missing\n",
    "data1 = data1.dropna(subset=[\"Year\"]).copy()\n",
    "\n",
    "# Convert Year to integer (instead of float/nullable)\n",
    "data1[\"Year\"] = data1[\"Year\"].astype(int)"
   ]
  },
  {
   "cell_type": "code",
   "execution_count": 19,
   "id": "5a70f062-7675-4008-ab2d-9f3179271e35",
   "metadata": {},
   "outputs": [
    {
     "data": {
      "image/png": "[encoded data removed]",
      "text/plain": [
       "<Figure size 1000x600 with 1 Axes>"
      ]
     },
     "metadata": {},
     "output_type": "display_data"
    }
   ],
   "source": [
    "# --- Plot as line chart ---\n",
    "plt.figure(figsize=(10,6))\n",
    "plt.plot(data1[\"Year\"], data1[\"No. of Suicide Blasts\"],color='red', marker='o', linestyle='--', linewidth=2)\n",
    "\n",
    "# Styling\n",
    "plt.title(\"Frequency of Blasts by Year\", fontsize=14)\n",
    "plt.xlabel(\"Year\", fontsize=12)\n",
    "plt.ylabel(\"No. of Suicide Blasts\", fontsize=12)\n",
    "plt.grid(True, linestyle='--', alpha=0.5)\n",
    "plt.tight_layout()\n",
    "\n",
    "plt.show()"
   ]
  },
  {
   "cell_type": "markdown",
   "id": "eef3ed61-4795-4c74-bcad-670de948cc61",
   "metadata": {},
   "source": [
    "##### 2. Frequency of blast by City"
   ]
  },
  {
   "cell_type": "code",
   "execution_count": 20,
   "id": "8f8ec85a-687c-4d4a-b0a6-ff610e2815fa",
   "metadata": {},
   "outputs": [
    {
     "name": "stdout",
     "output_type": "stream",
     "text": [
      "City\n",
      "Peshawar          68\n",
      "Swat              25\n",
      "Quetta            23\n",
      "Bannu             21\n",
      "Karachi           20\n",
      "                  ..\n",
      "Multan             1\n",
      "D.G Khan           1\n",
      "Sudhanoti          1\n",
      "Khyber Agency      1\n",
      "KURRAM AGENCY      1\n",
      "Name: count, Length: 82, dtype: int64\n"
     ]
    }
   ],
   "source": [
    "city_counts = data1[\"City\"].value_counts()\n",
    "print(city_counts)"
   ]
  },
  {
   "cell_type": "code",
   "execution_count": 21,
   "id": "5d5ee465-aa9d-48a4-95d8-6ee6f82c4f93",
   "metadata": {},
   "outputs": [
    {
     "data": {
      "image/png": "[encoded data removed]",
      "text/plain": [
       "<Figure size 1200x600 with 1 Axes>"
      ]
     },
     "metadata": {},
     "output_type": "display_data"
    }
   ],
   "source": [
    "# Count blasts per city (Top 10 cities)\n",
    "city_counts = data1[\"City\"].value_counts().head(10)   \n",
    "\n",
    "# Plot as bar chart\n",
    "plt.figure(figsize=(12,6))\n",
    "city_counts.plot(kind=\"bar\", color=\"skyblue\", edgecolor=\"black\")\n",
    "\n",
    "# Add titles and labels\n",
    "plt.title(\"Top 10 Cities by Frequency of Blasts\", fontsize=14)\n",
    "plt.xlabel(\"City\", fontsize=12)\n",
    "plt.ylabel(\"No. of Suicide Blasts\", fontsize=12)\n",
    "\n",
    "# Rotate x-labels for readability\n",
    "plt.xticks(rotation=45, ha=\"right\")\n",
    "\n",
    "# Add gridlines\n",
    "plt.grid(axis=\"y\", linestyle=\"--\", alpha=0.5)\n",
    "\n",
    "plt.show()"
   ]
  },
  {
   "cell_type": "markdown",
   "id": "d51a1309-a1f5-421a-8cc9-7b898adc1c9f",
   "metadata": {},
   "source": [
    "##### 3. Relationship between Temperature and Casualty (e.g,'killed Max')"
   ]
  },
  {
   "cell_type": "code",
   "execution_count": 28,
   "id": "39bf6f8d-96ba-4b9a-976b-a29e3d66e495",
   "metadata": {},
   "outputs": [
    {
     "data": {
      "image/png": "[encoded data removed]",
      "text/plain": [
       "<Figure size 1000x600 with 1 Axes>"
      ]
     },
     "metadata": {},
     "output_type": "display_data"
    }
   ],
   "source": [
    "# To drop rows where either Temperature or Killed Max is NaN\n",
    "df_clean = data1[['Temperature(C)', 'Killed Max']].dropna()\n",
    "\n",
    "# --- Scatter Plot ---\n",
    "plt.figure(figsize=(10,6))\n",
    "plt.scatter(df_clean['Temperature(C)'], df_clean['Killed Max'], alpha=0.6)\n",
    "\n",
    "plt.title(\"Relationship between Temperature and Casualty Number (e.g, Killed Max)\", fontsize=14)\n",
    "plt.xlabel('Temperature (°C)', fontsize=12)\n",
    "plt.ylabel('Killed Max', fontsize=12)\n",
    "plt.grid(True, linestyle='--', alpha=0.5)\n",
    "\n",
    "plt.show()"
   ]
  },
  {
   "cell_type": "markdown",
   "id": "1271a0f2-2aaa-4f4b-ba79-6176c72f8ffd",
   "metadata": {},
   "source": [
    "##### 4. Analysis of targeted sects, types of targets, or location sensitivity"
   ]
  },
  {
   "cell_type": "code",
   "execution_count": 3,
   "id": "3d67d721-9744-4045-b25c-230161f409f0",
   "metadata": {},
   "outputs": [
    {
     "data": {
      "image/png": "[encoded data removed]",
      "text/plain": [
       "<Figure size 1200x600 with 1 Axes>"
      ]
     },
     "metadata": {},
     "output_type": "display_data"
    }
   ],
   "source": [
    "# Group by Target Type\n",
    "casualty_summary = data1.groupby(\"Target Type\")[[\"Killed Min\",\"Injured Min\"]].sum()\n",
    "\n",
    "# Plot\n",
    "casualty_summary.plot(kind=\"bar\", figsize=(12,6))\n",
    "plt.title(\"Total Killed vs Injured by Target Type\")\n",
    "plt.xlabel(\"Target Type\")\n",
    "plt.ylabel(\"Number of People\")\n",
    "plt.legend([\"Killed\", \"Injured\"])\n",
    "plt.xticks(rotation=45)\n",
    "plt.show()\n",
    "\n",
    "\n",
    "\n",
    "\n",
    "\n"
   ]
  },
  {
   "cell_type": "code",
   "execution_count": 5,
   "id": "ec6dfdf1-63de-44e3-a9be-71be579566d2",
   "metadata": {},
   "outputs": [
    {
     "data": {
      "image/png": "[encoded data removed]",
      "text/plain": [
       "<Figure size 1000x600 with 1 Axes>"
      ]
     },
     "metadata": {},
     "output_type": "display_data"
    }
   ],
   "source": [
    "# Group by Targeted Sect if any\n",
    "sect_summary = data1.groupby(\"Targeted Sect if any\")[[\"Killed Min\",\"Injured Min\"]].sum()\n",
    "\n",
    "# Sort better visualization, sort by killed (descending order)\n",
    "sect_summary = sect_summary.sort_values(\"Killed Min\", ascending=False)\n",
    "\n",
    "# Plot\n",
    "sect_summary.plot(kind=\"barh\", figsize=(10,6), color=[\"crimson\", \"gray\"])\n",
    "plt.title(\"Total Killed vs Injured by Targeted Sect\")\n",
    "plt.xlabel(\"Number of People\")\n",
    "plt.ylabel(\"Targeted Sect (if any)\")\n",
    "plt.legend([\"Killed\", \"Injured\"])\n",
    "plt.show()\n",
    "\n"
   ]
  },
  {
   "cell_type": "code",
   "execution_count": 3,
   "id": "3fc14222-e58c-4e37-a3d4-8ddacdf847c8",
   "metadata": {},
   "outputs": [
    {
     "data": {
      "image/png": "[encoded data removed]",
      "text/plain": [
       "<Figure size 600x600 with 1 Axes>"
      ]
     },
     "metadata": {},
     "output_type": "display_data"
    }
   ],
   "source": [
    "# Group by location sensitivity\n",
    "\n",
    "# Step 1: Remove leading/trailing spaces\n",
    "data1[\"Location Sensitivity\"] = data1[\"Location Sensitivity\"].str.strip()\n",
    "\n",
    "# Step 2: Standardize capitalization (first letter uppercase, rest lowercase)\n",
    "data1[\"Location Sensitivity\"] = data1[\"Location Sensitivity\"].str.capitalize()\n",
    "\n",
    "# Step 3: Count the number of occurrences of each category in \"Location Sensitivity\"\n",
    "sensitivity_summary = data1[\"Location Sensitivity\"].value_counts()\n",
    "\n",
    "# Step 4: Plot the distribution as a pie chart\n",
    "sensitivity_summary.plot(kind=\"pie\", figsize=(6,6), autopct=\"%1.1f%%\", startangle=90, colors=[\"crimson\", \"goldenrod\", \"steelblue\"])\n",
    "\n",
    "# step 5: Add chart title and remove default y-axis label\n",
    "plt.title(\"Distribution of Location Sensitivity (High, Medium, Low)\")\n",
    "plt.ylabel(\"\")\n",
    "\n",
    "# Step 6: Display the chart\n",
    "plt.show()\n"
   ]
  },
  {
   "cell_type": "markdown",
   "id": "4569356c-2179-4d05-b802-15638c0350c1",
   "metadata": {},
   "source": [
    "#### Data Overview and Key Insights to the Exploratory Data Analysis(EDA)"
   ]
  },
  {
   "cell_type": "markdown",
   "id": "8a00eccf-486f-4964-ac83-2a6131bfd38a",
   "metadata": {},
   "source": [
    "##### 1. Dataset Overview\n"
   ]
  },
  {
   "cell_type": "code",
   "execution_count": null,
   "id": "b80c4032-f000-48ad-a195-c605a234fa32",
   "metadata": {},
   "outputs": [],
   "source": [
    "This dataset contains information on blast incidents that occurred in Pakistan, with 492 \n",
    "records and 26 features. Some of the key columns include:\n",
    "• Date, City, Province\n",
    "• Time, Latitude, Longitude\n",
    "• Target Type, Killed Min/Max, Injured Min/Max\n",
    "• Location Sensitivity, Hospital Names, Temperature"
   ]
  },
  {
   "cell_type": "markdown",
   "id": "d33dab0c-6ffd-4b0c-8fa8-9ba4d7de3f54",
   "metadata": {},
   "source": [
    "##### 2. Data Completeness and Quality"
   ]
  },
  {
   "cell_type": "code",
   "execution_count": null,
   "id": "ec316e79-0199-4bdf-9065-6e39920687b4",
   "metadata": {},
   "outputs": [],
   "source": [
    "• Columns with full data: Date, City, Province, S#  \n",
    "\n",
    "• Columns with many missing values: Holiday Type (72), Influencing Event (187), Targeted Sect (97), Explosive Weight (169)  \n",
    "\n",
    "• Mixed data types: Longitude, Injured Max, Explosive Weight stored as object instead of numeric.  "
   ]
  },
  {
   "cell_type": "markdown",
   "id": "00117542-3982-436b-afa3-cfca8b3bf9d7",
   "metadata": {},
   "source": [
    "#####  3.  Incident Characteristics:"
   ]
  },
  {
   "cell_type": "markdown",
   "id": "5a0343af-fd7c-4d87-9504-4d2e30a8c3ce",
   "metadata": {},
   "source": [
    "* Blast Day Type: Type of day (weekday, weekend, holiday, etc.)\n",
    "\n",
    "* Holiday Type: If incident coincided with holiday events\n",
    "\n",
    "* Open/Closed Space: Indicates where the blast occurred\n",
    "\n",
    "* Location Sensitivity: How sensitive or important the location was"
   ]
  },
  {
   "cell_type": "markdown",
   "id": "9e99739d-8f89-446b-9983-a094aaeb57ff",
   "metadata": {},
   "source": [
    "##### 4.  Human Impact :"
   ]
  },
  {
   "cell_type": "markdown",
   "id": "cb4298e4-4a64-4c7c-9078-ddd46c39b80b",
   "metadata": {},
   "source": [
    "* Casualties:\n",
    "\n",
    "* Killed (Min & Max)\n",
    "\n",
    "* Injured (Min & Max)\n",
    "\n",
    "* Target Information: Target Type, Targeted Sect (if any)\n",
    "\n",
    "* Suicide Blasts: Recorded count"
   ]
  },
  {
   "cell_type": "markdown",
   "id": "dd83a6b7-b0ba-41f3-9e71-20352314c5bb",
   "metadata": {},
   "source": [
    "##### 5. Event Context"
   ]
  },
  {
   "cell_type": "markdown",
   "id": "e85886a5-7799-44ea-9607-b3460e1870e8",
   "metadata": {},
   "source": [
    "* Influencing Event/Event: External trigger or related context\n",
    "\n",
    "* Explosive Weight (max): Severity measure (though incomplete)\n",
    "\n",
    "* Hospital Names: Hospitals where victims were treated"
   ]
  },
  {
   "cell_type": "markdown",
   "id": "968fc103-d471-49a2-8272-4b10c4f05bde",
   "metadata": {},
   "source": [
    "##### 6. Environmental Conditions:"
   ]
  },
  {
   "cell_type": "markdown",
   "id": "6c2fd0d8-3f24-48d7-9cbb-3ab7fdc08d50",
   "metadata": {},
   "source": [
    "* Temperature (C/F): Weather conditions at time/place of incident"
   ]
  },
  {
   "cell_type": "markdown",
   "id": "5a139ec0-bfea-432b-9eed-c7ec7ecd6521",
   "metadata": {},
   "source": [
    "##### 7.  Key Insights from EDA:"
   ]
  },
  {
   "cell_type": "markdown",
   "id": "b342e3e8-7d3b-4f7e-9b9f-e2a119589759",
   "metadata": {},
   "source": [
    "###### A. Blast count by City"
   ]
  },
  {
   "cell_type": "markdown",
   "id": "d0e178bb-d967-4ad4-8c9e-a3cfeb5da358",
   "metadata": {},
   "source": [
    "* City with the highest suicide blast count is pashawar, with a blast count of close to 70.\n",
    "* Bajaur Agency and North Waziristan seem to have recorded the same number of blast, equally about 15 rounds."
   ]
  },
  {
   "cell_type": "markdown",
   "id": "ce72f46b-3ec4-4cce-9cf4-3c90b8bc383c",
   "metadata": {},
   "source": [
    "###### B. Casualty Distribution (Killed Max):"
   ]
  },
  {
   "cell_type": "markdown",
   "id": "43d54a0f-5d89-4d0c-8c61-9b6889dcf0c3",
   "metadata": {},
   "source": [
    "###### 1. Scatter Pattern:\n",
    "         "
   ]
  },
  {
   "cell_type": "markdown",
   "id": "4f080eaf-dcc5-474e-a09b-2659e2d8bddc",
   "metadata": {},
   "source": [
    " * For temperatures across the 0–100°C range, there is a dense cluster of points at lower Killed Max values, forming a base near the\n",
    "            horizontal axis\n",
    "\n",
    " * As the Killed Max value increases vertically, the points become more sparse and scattered, indicating that extremely high-casualty incidents are rare events.\n",
    "\n",
    "          "
   ]
  },
  {
   "cell_type": "markdown",
   "id": "85f9e3c5-5a92-400d-95cf-1a8c04bdf858",
   "metadata": {},
   "source": [
    "###### 2. Relationship between Temperature and Fatalities:"
   ]
  },
  {
   "cell_type": "markdown",
   "id": "ba90c856-70f0-4be1-a360-8c6f370a75c3",
   "metadata": {},
   "source": [
    "* The scatter does not suggest a strong linear correlation between temperature and casualty numbers.\n",
    "* Instead, the relationship appears weak or negligible, implying that temperature may not be a key determinant of casualty severity in these incidents.\n",
    "* The spread rather highlights the frequency of low-fatality incidents, regardless of the prevailing temperature."
   ]
  },
  {
   "cell_type": "markdown",
   "id": "1bb73c4e-26dc-4499-ac57-31b00f0bd6c7",
   "metadata": {},
   "source": [
    "###### 3. Insights"
   ]
  },
  {
   "cell_type": "markdown",
   "id": "5ef5cb59-d5eb-490c-ad25-3e0b718aa213",
   "metadata": {},
   "source": [
    "* Temperature is not a reliable predictor of the maximum fatalities in blast incidents.\n",
    "* The distribution highlights that blast incidents are overwhelmingly low-fatality events, with high-casualty incidents being outliers."
   ]
  },
  {
   "cell_type": "markdown",
   "id": "26d705ee-0cfb-471a-891b-cbf778b6b873",
   "metadata": {},
   "source": [
    "###### C. Total Killed vs Injured by Target Type:"
   ]
  },
  {
   "cell_type": "markdown",
   "id": "81980196-ce5a-484c-862d-10568312b1d9",
   "metadata": {},
   "source": [
    "###### 1. Key Observations:"
   ]
  },
  {
   "cell_type": "markdown",
   "id": "6313c46f-fceb-4555-a852-cdc1dda6204b",
   "metadata": {},
   "source": [
    "* Highest Casualty Group – Children/Women.\n",
    "* Police as the Second Most Affected.\n",
    "* Army Recorded the Least Casualty"
   ]
  },
  {
   "cell_type": "markdown",
   "id": "d1d38c78-3495-429f-b3f1-ec932c29eb66",
   "metadata": {},
   "source": [
    "###### 2. Insights:"
   ]
  },
  {
   "cell_type": "markdown",
   "id": "8de5e49c-ad8a-4376-8f93-7cdd03970557",
   "metadata": {},
   "source": [
    "* The Children/Women category recorded the highest combined casualties, both in terms of fatalities and injuries.\n",
    "* This indicates that vulnerable civilian groups were disproportionately affected by blast incidents.\n",
    "* With police being ranked as second, it shows that Law enforcement (police) bore a heavy burden, likely due to their frontline role in conflict zones.\n",
    "* Military (army) casualties appear limited, possibly due to strategic defenses, preparedness, or lower frequency of direct targeting."
   ]
  },
  {
   "cell_type": "markdown",
   "id": "857ff120-95bc-44ed-91a7-36a90440c174",
   "metadata": {},
   "source": [
    "###### D. Distribution of Location Sensitivity (High, Medium, Low):"
   ]
  },
  {
   "cell_type": "markdown",
   "id": "eb3a9a04-38ee-497f-8258-f381347f8db9",
   "metadata": {},
   "source": [
    "###### 1. Key Observations:"
   ]
  },
  {
   "cell_type": "markdown",
   "id": "bb851d94-95c5-421d-88e6-935fea533587",
   "metadata": {},
   "source": [
    "* High Sensitivity Locations Dominate.\n",
    "* Low Sensitivity in Second Place.\n",
    "* Meduim Sensitivity Recorded the Least."
   ]
  },
  {
   "cell_type": "markdown",
   "id": "09bf083d-f622-43cc-bb57-d73a6baf6a3b",
   "metadata": {},
   "source": [
    "###### 2. Insights:"
   ]
  },
  {
   "cell_type": "markdown",
   "id": "29b6da63-7e9c-4ad5-85dc-76044a56da9d",
   "metadata": {},
   "source": [
    "* The distribution highlights that attackers often prioritized high-sensitivity locations, possibly to maximize visibility, disruption, or political impact.\n",
    "* The relatively higher occurrence of low-sensitivity incidents compared to medium ones suggests that attackers may prefer either highly strategic or less protected areas, while moderately important locations are less prioritized.\n",
    "* This distribution reflects a possible dual strategy: seeking maximum impact through high-profile targets, while also exploiting vulnerabilities in low-sensitivity areas.\n"
   ]
  }
 ],
 "metadata": {
  "kernelspec": {
   "display_name": "Python 3 (ipykernel)",
   "language": "python",
   "name": "python3"
  },
  "language_info": {
   "codemirror_mode": {
    "name": "ipython",
    "version": 3
   },
   "file_extension": ".py",
   "mimetype": "text/x-python",
   "name": "python",
   "nbconvert_exporter": "python",
   "pygments_lexer": "ipython3",
   "version": "3.12.7"
  }
 },
 "nbformat": 4,
 "nbformat_minor": 5
}
